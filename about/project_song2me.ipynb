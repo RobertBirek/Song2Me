{
 "cells": [
  {
   "cell_type": "markdown",
   "metadata": {},
   "source": [
    "# Nazwa aplikacji: Song2me"
   ]
  },
  {
   "cell_type": "markdown",
   "metadata": {},
   "source": [
    "## Specyfikacja / Specs\n",
    "\n",
    "* użytkownik wprowadza plik mp3, lub wyszukuje z bazy, już zapisany\n",
    "* dane wejściowe: plik mp3, lub nazwa utworu\n",
    "* program separuje ścieżki utworu na (wokal, bas, perusje, reszta)\n",
    "* na podstawie ścieżki wokalu, rozpoznawany jest teks utworu i jego dane (wykonawca, płyta, rok itp)\n",
    "* osobne 4 ścieżki utworu, jego dane i tekst, zapisywane są w bazie danych do dalszego wykorzystania\n",
    "* na podstawie 4 ścieżek utworu można miksować utwór, np. wyłączyć tylko wokal, tylko perkusja i bas\n",
    "* ewentualnie karaoke\n"
   ]
  },
  {
   "cell_type": "markdown",
   "metadata": {},
   "source": [
    "## Architektura\n",
    "\n",
    "![alt text](diagram.excalidraw.png)"
   ]
  },
  {
   "cell_type": "markdown",
   "metadata": {},
   "source": [
    "## Plan / Taski\n",
    "* v1 - stworzenie menu aplikacji\n",
    "* v2 - wgrywanie pliku mp3 na dysk\n",
    "* v3 - separacja ścieżek na dysku\n",
    "* v4 - transkrypcja wokalu na dane i tekst utworu, edycja i zapis na dysku\n",
    "* v5 - stworzenie miksera ścieżek\n",
    "* v6 - podłączenie bazy danych w cloud i zapis w niej plików\n",
    "* v7 - stworzenie wyszukiwarki utworów i ładowanie plików do miksu\n",
    "* v8 - transkrypcja ścieżek audio na zapis nutowy pdf?\n",
    "* v9 - stworzenie karaoke?"
   ]
  },
  {
   "cell_type": "markdown",
   "metadata": {},
   "source": [
    "## Zależności\n",
    "* `streamlit` - do budowy interfejsu użytkownika.\n",
    "* `dotenv` - do przechowywania klucza openai.\n",
    "* `openai` i modelu `gpt-4o` - do wyszukiwania danych utworu na podstawie tekstu.\n",
    "* `openai` i modelu `whisper-1` - do transkrypcji tekstu utworu.\n",
    "* `pydub` - do obsugi plików audio\n",
    "* `demucs` - do separacji na ścieżki\n",
    "* ..."
   ]
  },
  {
   "cell_type": "markdown",
   "metadata": {},
   "source": [
    "## Instalujemy wymagane biblioteki (conda wymagana)\n",
    "\n",
    "- otwórz terminal\n",
    "- uruchom `conda create -n song2me python=3.8`\n",
    "- uruchom `conda activate song2me`\n",
    "- uruchom `conda config --append channels conda-forge`\n",
    "- uruchom `conda install -y streamlit conda-forge::ffmpeg`\n",
    "- uruchom `conda install -y openai python-dotenv`\n",
    "* instalacja Demucs (narzędzie do separacji audio)\n",
    "- uruchom `pip install torch torchvision torchaudio --index-url https://download.pytorch.org/whl/cpu`\n",
    "- uruchom `pip install demucs`\n"
   ]
  },
  {
   "cell_type": "markdown",
   "metadata": {},
   "source": []
  }
 ],
 "metadata": {
  "kernelspec": {
   "display_name": "Python 3 (ipykernel)",
   "language": "python",
   "name": "python3"
  },
  "language_info": {
   "codemirror_mode": {
    "name": "ipython",
    "version": 3
   },
   "file_extension": ".py",
   "mimetype": "text/x-python",
   "name": "python",
   "nbconvert_exporter": "python",
   "pygments_lexer": "ipython3",
   "version": "3.11.9"
  }
 },
 "nbformat": 4,
 "nbformat_minor": 4
}
